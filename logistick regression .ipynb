{
 "cells": [
  {
   "cell_type": "code",
   "execution_count": 1,
   "id": "1ed73f2b",
   "metadata": {
    "ExecuteTime": {
     "end_time": "2023-05-16T09:15:48.353598Z",
     "start_time": "2023-05-16T09:15:42.866839Z"
    }
   },
   "outputs": [],
   "source": [
    "import pandas as pd\n",
    "import numpy as np\n",
    "import seaborn as sb\n",
    "import matplotlib.pyplot as plt\n",
    "from sklearn.linear_model import LogisticRegression\n",
    "from sklearn.metrics import confusion_matrix\n",
    "from sklearn.metrics import classification_report"
   ]
  },
  {
   "cell_type": "code",
   "execution_count": 2,
   "id": "5b236b0e",
   "metadata": {
    "ExecuteTime": {
     "end_time": "2023-05-16T09:17:14.238173Z",
     "start_time": "2023-05-16T09:17:14.011084Z"
    }
   },
   "outputs": [
    {
     "name": "stdout",
     "output_type": "stream",
     "text": [
      "<class 'pandas.core.frame.DataFrame'>\n",
      "Int64Index: 21538 entries, 0 to 21537\n",
      "Data columns (total 17 columns):\n",
      " #   Column     Non-Null Count  Dtype  \n",
      "---  ------     --------------  -----  \n",
      " 0   age        21538 non-null  int64  \n",
      " 1   job        21538 non-null  object \n",
      " 2   marital    21538 non-null  object \n",
      " 3   education  21538 non-null  object \n",
      " 4   default    21538 non-null  object \n",
      " 5   balance    21538 non-null  float64\n",
      " 6   housing    21538 non-null  object \n",
      " 7   loan       21538 non-null  object \n",
      " 8   contact    21538 non-null  object \n",
      " 9   day        21538 non-null  float64\n",
      " 10  month      21538 non-null  object \n",
      " 11  duration   21538 non-null  float64\n",
      " 12  campaign   21538 non-null  float64\n",
      " 13  pdays      21538 non-null  float64\n",
      " 14  previous   21538 non-null  float64\n",
      " 15  poutcome   21538 non-null  object \n",
      " 16  y          21538 non-null  object \n",
      "dtypes: float64(6), int64(1), object(10)\n",
      "memory usage: 3.0+ MB\n"
     ]
    }
   ],
   "source": [
    "bank=pd.read_csv('bank-full.csv',sep=';')\n",
    "bank=bank.dropna()\n",
    "bank.info()"
   ]
  },
  {
   "cell_type": "code",
   "execution_count": 3,
   "id": "3a1bd374",
   "metadata": {
    "ExecuteTime": {
     "end_time": "2023-05-16T09:17:21.637006Z",
     "start_time": "2023-05-16T09:17:21.561968Z"
    }
   },
   "outputs": [
    {
     "data": {
      "text/html": [
       "<div>\n",
       "<style scoped>\n",
       "    .dataframe tbody tr th:only-of-type {\n",
       "        vertical-align: middle;\n",
       "    }\n",
       "\n",
       "    .dataframe tbody tr th {\n",
       "        vertical-align: top;\n",
       "    }\n",
       "\n",
       "    .dataframe thead th {\n",
       "        text-align: right;\n",
       "    }\n",
       "</style>\n",
       "<table border=\"1\" class=\"dataframe\">\n",
       "  <thead>\n",
       "    <tr style=\"text-align: right;\">\n",
       "      <th></th>\n",
       "      <th>age</th>\n",
       "      <th>job</th>\n",
       "      <th>marital</th>\n",
       "      <th>education</th>\n",
       "      <th>default</th>\n",
       "      <th>balance</th>\n",
       "      <th>housing</th>\n",
       "      <th>loan</th>\n",
       "      <th>contact</th>\n",
       "      <th>day</th>\n",
       "      <th>month</th>\n",
       "      <th>duration</th>\n",
       "      <th>campaign</th>\n",
       "      <th>pdays</th>\n",
       "      <th>previous</th>\n",
       "      <th>poutcome</th>\n",
       "      <th>y</th>\n",
       "    </tr>\n",
       "  </thead>\n",
       "  <tbody>\n",
       "    <tr>\n",
       "      <th>0</th>\n",
       "      <td>58</td>\n",
       "      <td>management</td>\n",
       "      <td>married</td>\n",
       "      <td>tertiary</td>\n",
       "      <td>no</td>\n",
       "      <td>2143.0</td>\n",
       "      <td>yes</td>\n",
       "      <td>no</td>\n",
       "      <td>unknown</td>\n",
       "      <td>5.0</td>\n",
       "      <td>may</td>\n",
       "      <td>261.0</td>\n",
       "      <td>1.0</td>\n",
       "      <td>-1.0</td>\n",
       "      <td>0.0</td>\n",
       "      <td>unknown</td>\n",
       "      <td>no</td>\n",
       "    </tr>\n",
       "    <tr>\n",
       "      <th>1</th>\n",
       "      <td>44</td>\n",
       "      <td>technician</td>\n",
       "      <td>single</td>\n",
       "      <td>secondary</td>\n",
       "      <td>no</td>\n",
       "      <td>29.0</td>\n",
       "      <td>yes</td>\n",
       "      <td>no</td>\n",
       "      <td>unknown</td>\n",
       "      <td>5.0</td>\n",
       "      <td>may</td>\n",
       "      <td>151.0</td>\n",
       "      <td>1.0</td>\n",
       "      <td>-1.0</td>\n",
       "      <td>0.0</td>\n",
       "      <td>unknown</td>\n",
       "      <td>no</td>\n",
       "    </tr>\n",
       "    <tr>\n",
       "      <th>2</th>\n",
       "      <td>33</td>\n",
       "      <td>entrepreneur</td>\n",
       "      <td>married</td>\n",
       "      <td>secondary</td>\n",
       "      <td>no</td>\n",
       "      <td>2.0</td>\n",
       "      <td>yes</td>\n",
       "      <td>yes</td>\n",
       "      <td>unknown</td>\n",
       "      <td>5.0</td>\n",
       "      <td>may</td>\n",
       "      <td>76.0</td>\n",
       "      <td>1.0</td>\n",
       "      <td>-1.0</td>\n",
       "      <td>0.0</td>\n",
       "      <td>unknown</td>\n",
       "      <td>no</td>\n",
       "    </tr>\n",
       "    <tr>\n",
       "      <th>3</th>\n",
       "      <td>47</td>\n",
       "      <td>blue-collar</td>\n",
       "      <td>married</td>\n",
       "      <td>unknown</td>\n",
       "      <td>no</td>\n",
       "      <td>1506.0</td>\n",
       "      <td>yes</td>\n",
       "      <td>no</td>\n",
       "      <td>unknown</td>\n",
       "      <td>5.0</td>\n",
       "      <td>may</td>\n",
       "      <td>92.0</td>\n",
       "      <td>1.0</td>\n",
       "      <td>-1.0</td>\n",
       "      <td>0.0</td>\n",
       "      <td>unknown</td>\n",
       "      <td>no</td>\n",
       "    </tr>\n",
       "    <tr>\n",
       "      <th>4</th>\n",
       "      <td>33</td>\n",
       "      <td>unknown</td>\n",
       "      <td>single</td>\n",
       "      <td>unknown</td>\n",
       "      <td>no</td>\n",
       "      <td>1.0</td>\n",
       "      <td>no</td>\n",
       "      <td>no</td>\n",
       "      <td>unknown</td>\n",
       "      <td>5.0</td>\n",
       "      <td>may</td>\n",
       "      <td>198.0</td>\n",
       "      <td>1.0</td>\n",
       "      <td>-1.0</td>\n",
       "      <td>0.0</td>\n",
       "      <td>unknown</td>\n",
       "      <td>no</td>\n",
       "    </tr>\n",
       "    <tr>\n",
       "      <th>...</th>\n",
       "      <td>...</td>\n",
       "      <td>...</td>\n",
       "      <td>...</td>\n",
       "      <td>...</td>\n",
       "      <td>...</td>\n",
       "      <td>...</td>\n",
       "      <td>...</td>\n",
       "      <td>...</td>\n",
       "      <td>...</td>\n",
       "      <td>...</td>\n",
       "      <td>...</td>\n",
       "      <td>...</td>\n",
       "      <td>...</td>\n",
       "      <td>...</td>\n",
       "      <td>...</td>\n",
       "      <td>...</td>\n",
       "      <td>...</td>\n",
       "    </tr>\n",
       "    <tr>\n",
       "      <th>21533</th>\n",
       "      <td>38</td>\n",
       "      <td>technician</td>\n",
       "      <td>single</td>\n",
       "      <td>tertiary</td>\n",
       "      <td>no</td>\n",
       "      <td>103.0</td>\n",
       "      <td>no</td>\n",
       "      <td>no</td>\n",
       "      <td>cellular</td>\n",
       "      <td>19.0</td>\n",
       "      <td>aug</td>\n",
       "      <td>490.0</td>\n",
       "      <td>4.0</td>\n",
       "      <td>-1.0</td>\n",
       "      <td>0.0</td>\n",
       "      <td>unknown</td>\n",
       "      <td>no</td>\n",
       "    </tr>\n",
       "    <tr>\n",
       "      <th>21534</th>\n",
       "      <td>59</td>\n",
       "      <td>retired</td>\n",
       "      <td>married</td>\n",
       "      <td>unknown</td>\n",
       "      <td>no</td>\n",
       "      <td>613.0</td>\n",
       "      <td>no</td>\n",
       "      <td>no</td>\n",
       "      <td>cellular</td>\n",
       "      <td>19.0</td>\n",
       "      <td>aug</td>\n",
       "      <td>75.0</td>\n",
       "      <td>2.0</td>\n",
       "      <td>-1.0</td>\n",
       "      <td>0.0</td>\n",
       "      <td>unknown</td>\n",
       "      <td>no</td>\n",
       "    </tr>\n",
       "    <tr>\n",
       "      <th>21535</th>\n",
       "      <td>48</td>\n",
       "      <td>unknown</td>\n",
       "      <td>married</td>\n",
       "      <td>secondary</td>\n",
       "      <td>no</td>\n",
       "      <td>-95.0</td>\n",
       "      <td>no</td>\n",
       "      <td>no</td>\n",
       "      <td>cellular</td>\n",
       "      <td>19.0</td>\n",
       "      <td>aug</td>\n",
       "      <td>134.0</td>\n",
       "      <td>9.0</td>\n",
       "      <td>-1.0</td>\n",
       "      <td>0.0</td>\n",
       "      <td>unknown</td>\n",
       "      <td>no</td>\n",
       "    </tr>\n",
       "    <tr>\n",
       "      <th>21536</th>\n",
       "      <td>49</td>\n",
       "      <td>management</td>\n",
       "      <td>married</td>\n",
       "      <td>secondary</td>\n",
       "      <td>no</td>\n",
       "      <td>0.0</td>\n",
       "      <td>no</td>\n",
       "      <td>no</td>\n",
       "      <td>cellular</td>\n",
       "      <td>19.0</td>\n",
       "      <td>aug</td>\n",
       "      <td>141.0</td>\n",
       "      <td>2.0</td>\n",
       "      <td>-1.0</td>\n",
       "      <td>0.0</td>\n",
       "      <td>unknown</td>\n",
       "      <td>no</td>\n",
       "    </tr>\n",
       "    <tr>\n",
       "      <th>21537</th>\n",
       "      <td>49</td>\n",
       "      <td>admin.</td>\n",
       "      <td>married</td>\n",
       "      <td>tertiary</td>\n",
       "      <td>no</td>\n",
       "      <td>-962.0</td>\n",
       "      <td>yes</td>\n",
       "      <td>no</td>\n",
       "      <td>cellular</td>\n",
       "      <td>19.0</td>\n",
       "      <td>aug</td>\n",
       "      <td>295.0</td>\n",
       "      <td>2.0</td>\n",
       "      <td>-1.0</td>\n",
       "      <td>0.0</td>\n",
       "      <td>unknown</td>\n",
       "      <td>no</td>\n",
       "    </tr>\n",
       "  </tbody>\n",
       "</table>\n",
       "<p>21538 rows × 17 columns</p>\n",
       "</div>"
      ],
      "text/plain": [
       "       age           job  marital  education default  balance housing loan  \\\n",
       "0       58    management  married   tertiary      no   2143.0     yes   no   \n",
       "1       44    technician   single  secondary      no     29.0     yes   no   \n",
       "2       33  entrepreneur  married  secondary      no      2.0     yes  yes   \n",
       "3       47   blue-collar  married    unknown      no   1506.0     yes   no   \n",
       "4       33       unknown   single    unknown      no      1.0      no   no   \n",
       "...    ...           ...      ...        ...     ...      ...     ...  ...   \n",
       "21533   38    technician   single   tertiary      no    103.0      no   no   \n",
       "21534   59       retired  married    unknown      no    613.0      no   no   \n",
       "21535   48       unknown  married  secondary      no    -95.0      no   no   \n",
       "21536   49    management  married  secondary      no      0.0      no   no   \n",
       "21537   49        admin.  married   tertiary      no   -962.0     yes   no   \n",
       "\n",
       "        contact   day month  duration  campaign  pdays  previous poutcome   y  \n",
       "0       unknown   5.0   may     261.0       1.0   -1.0       0.0  unknown  no  \n",
       "1       unknown   5.0   may     151.0       1.0   -1.0       0.0  unknown  no  \n",
       "2       unknown   5.0   may      76.0       1.0   -1.0       0.0  unknown  no  \n",
       "3       unknown   5.0   may      92.0       1.0   -1.0       0.0  unknown  no  \n",
       "4       unknown   5.0   may     198.0       1.0   -1.0       0.0  unknown  no  \n",
       "...         ...   ...   ...       ...       ...    ...       ...      ...  ..  \n",
       "21533  cellular  19.0   aug     490.0       4.0   -1.0       0.0  unknown  no  \n",
       "21534  cellular  19.0   aug      75.0       2.0   -1.0       0.0  unknown  no  \n",
       "21535  cellular  19.0   aug     134.0       9.0   -1.0       0.0  unknown  no  \n",
       "21536  cellular  19.0   aug     141.0       2.0   -1.0       0.0  unknown  no  \n",
       "21537  cellular  19.0   aug     295.0       2.0   -1.0       0.0  unknown  no  \n",
       "\n",
       "[21538 rows x 17 columns]"
      ]
     },
     "execution_count": 3,
     "metadata": {},
     "output_type": "execute_result"
    }
   ],
   "source": [
    "bank"
   ]
  },
  {
   "cell_type": "code",
   "execution_count": 6,
   "id": "c095e725",
   "metadata": {
    "ExecuteTime": {
     "end_time": "2023-05-16T09:19:41.853827Z",
     "start_time": "2023-05-16T09:19:41.757175Z"
    },
    "scrolled": false
   },
   "outputs": [
    {
     "data": {
      "text/html": [
       "<div>\n",
       "<style scoped>\n",
       "    .dataframe tbody tr th:only-of-type {\n",
       "        vertical-align: middle;\n",
       "    }\n",
       "\n",
       "    .dataframe tbody tr th {\n",
       "        vertical-align: top;\n",
       "    }\n",
       "\n",
       "    .dataframe thead th {\n",
       "        text-align: right;\n",
       "    }\n",
       "</style>\n",
       "<table border=\"1\" class=\"dataframe\">\n",
       "  <thead>\n",
       "    <tr style=\"text-align: right;\">\n",
       "      <th></th>\n",
       "      <th>age</th>\n",
       "      <th>default</th>\n",
       "      <th>balance</th>\n",
       "      <th>housing</th>\n",
       "      <th>loan</th>\n",
       "      <th>day</th>\n",
       "      <th>duration</th>\n",
       "      <th>campaign</th>\n",
       "      <th>pdays</th>\n",
       "      <th>previous</th>\n",
       "      <th>...</th>\n",
       "      <th>education_tertiary</th>\n",
       "      <th>education_unknown</th>\n",
       "      <th>contact_cellular</th>\n",
       "      <th>contact_telephone</th>\n",
       "      <th>contact_unknown</th>\n",
       "      <th>poutcome_unknown</th>\n",
       "      <th>month_aug</th>\n",
       "      <th>month_jul</th>\n",
       "      <th>month_jun</th>\n",
       "      <th>month_may</th>\n",
       "    </tr>\n",
       "  </thead>\n",
       "  <tbody>\n",
       "    <tr>\n",
       "      <th>0</th>\n",
       "      <td>58</td>\n",
       "      <td>no</td>\n",
       "      <td>2143.0</td>\n",
       "      <td>yes</td>\n",
       "      <td>no</td>\n",
       "      <td>5.0</td>\n",
       "      <td>261.0</td>\n",
       "      <td>1.0</td>\n",
       "      <td>-1.0</td>\n",
       "      <td>0.0</td>\n",
       "      <td>...</td>\n",
       "      <td>1</td>\n",
       "      <td>0</td>\n",
       "      <td>0</td>\n",
       "      <td>0</td>\n",
       "      <td>1</td>\n",
       "      <td>1</td>\n",
       "      <td>0</td>\n",
       "      <td>0</td>\n",
       "      <td>0</td>\n",
       "      <td>1</td>\n",
       "    </tr>\n",
       "    <tr>\n",
       "      <th>1</th>\n",
       "      <td>44</td>\n",
       "      <td>no</td>\n",
       "      <td>29.0</td>\n",
       "      <td>yes</td>\n",
       "      <td>no</td>\n",
       "      <td>5.0</td>\n",
       "      <td>151.0</td>\n",
       "      <td>1.0</td>\n",
       "      <td>-1.0</td>\n",
       "      <td>0.0</td>\n",
       "      <td>...</td>\n",
       "      <td>0</td>\n",
       "      <td>0</td>\n",
       "      <td>0</td>\n",
       "      <td>0</td>\n",
       "      <td>1</td>\n",
       "      <td>1</td>\n",
       "      <td>0</td>\n",
       "      <td>0</td>\n",
       "      <td>0</td>\n",
       "      <td>1</td>\n",
       "    </tr>\n",
       "    <tr>\n",
       "      <th>2</th>\n",
       "      <td>33</td>\n",
       "      <td>no</td>\n",
       "      <td>2.0</td>\n",
       "      <td>yes</td>\n",
       "      <td>yes</td>\n",
       "      <td>5.0</td>\n",
       "      <td>76.0</td>\n",
       "      <td>1.0</td>\n",
       "      <td>-1.0</td>\n",
       "      <td>0.0</td>\n",
       "      <td>...</td>\n",
       "      <td>0</td>\n",
       "      <td>0</td>\n",
       "      <td>0</td>\n",
       "      <td>0</td>\n",
       "      <td>1</td>\n",
       "      <td>1</td>\n",
       "      <td>0</td>\n",
       "      <td>0</td>\n",
       "      <td>0</td>\n",
       "      <td>1</td>\n",
       "    </tr>\n",
       "    <tr>\n",
       "      <th>3</th>\n",
       "      <td>47</td>\n",
       "      <td>no</td>\n",
       "      <td>1506.0</td>\n",
       "      <td>yes</td>\n",
       "      <td>no</td>\n",
       "      <td>5.0</td>\n",
       "      <td>92.0</td>\n",
       "      <td>1.0</td>\n",
       "      <td>-1.0</td>\n",
       "      <td>0.0</td>\n",
       "      <td>...</td>\n",
       "      <td>0</td>\n",
       "      <td>1</td>\n",
       "      <td>0</td>\n",
       "      <td>0</td>\n",
       "      <td>1</td>\n",
       "      <td>1</td>\n",
       "      <td>0</td>\n",
       "      <td>0</td>\n",
       "      <td>0</td>\n",
       "      <td>1</td>\n",
       "    </tr>\n",
       "    <tr>\n",
       "      <th>4</th>\n",
       "      <td>33</td>\n",
       "      <td>no</td>\n",
       "      <td>1.0</td>\n",
       "      <td>no</td>\n",
       "      <td>no</td>\n",
       "      <td>5.0</td>\n",
       "      <td>198.0</td>\n",
       "      <td>1.0</td>\n",
       "      <td>-1.0</td>\n",
       "      <td>0.0</td>\n",
       "      <td>...</td>\n",
       "      <td>0</td>\n",
       "      <td>1</td>\n",
       "      <td>0</td>\n",
       "      <td>0</td>\n",
       "      <td>1</td>\n",
       "      <td>1</td>\n",
       "      <td>0</td>\n",
       "      <td>0</td>\n",
       "      <td>0</td>\n",
       "      <td>1</td>\n",
       "    </tr>\n",
       "    <tr>\n",
       "      <th>...</th>\n",
       "      <td>...</td>\n",
       "      <td>...</td>\n",
       "      <td>...</td>\n",
       "      <td>...</td>\n",
       "      <td>...</td>\n",
       "      <td>...</td>\n",
       "      <td>...</td>\n",
       "      <td>...</td>\n",
       "      <td>...</td>\n",
       "      <td>...</td>\n",
       "      <td>...</td>\n",
       "      <td>...</td>\n",
       "      <td>...</td>\n",
       "      <td>...</td>\n",
       "      <td>...</td>\n",
       "      <td>...</td>\n",
       "      <td>...</td>\n",
       "      <td>...</td>\n",
       "      <td>...</td>\n",
       "      <td>...</td>\n",
       "      <td>...</td>\n",
       "    </tr>\n",
       "    <tr>\n",
       "      <th>21533</th>\n",
       "      <td>38</td>\n",
       "      <td>no</td>\n",
       "      <td>103.0</td>\n",
       "      <td>no</td>\n",
       "      <td>no</td>\n",
       "      <td>19.0</td>\n",
       "      <td>490.0</td>\n",
       "      <td>4.0</td>\n",
       "      <td>-1.0</td>\n",
       "      <td>0.0</td>\n",
       "      <td>...</td>\n",
       "      <td>1</td>\n",
       "      <td>0</td>\n",
       "      <td>1</td>\n",
       "      <td>0</td>\n",
       "      <td>0</td>\n",
       "      <td>1</td>\n",
       "      <td>1</td>\n",
       "      <td>0</td>\n",
       "      <td>0</td>\n",
       "      <td>0</td>\n",
       "    </tr>\n",
       "    <tr>\n",
       "      <th>21534</th>\n",
       "      <td>59</td>\n",
       "      <td>no</td>\n",
       "      <td>613.0</td>\n",
       "      <td>no</td>\n",
       "      <td>no</td>\n",
       "      <td>19.0</td>\n",
       "      <td>75.0</td>\n",
       "      <td>2.0</td>\n",
       "      <td>-1.0</td>\n",
       "      <td>0.0</td>\n",
       "      <td>...</td>\n",
       "      <td>0</td>\n",
       "      <td>1</td>\n",
       "      <td>1</td>\n",
       "      <td>0</td>\n",
       "      <td>0</td>\n",
       "      <td>1</td>\n",
       "      <td>1</td>\n",
       "      <td>0</td>\n",
       "      <td>0</td>\n",
       "      <td>0</td>\n",
       "    </tr>\n",
       "    <tr>\n",
       "      <th>21535</th>\n",
       "      <td>48</td>\n",
       "      <td>no</td>\n",
       "      <td>-95.0</td>\n",
       "      <td>no</td>\n",
       "      <td>no</td>\n",
       "      <td>19.0</td>\n",
       "      <td>134.0</td>\n",
       "      <td>9.0</td>\n",
       "      <td>-1.0</td>\n",
       "      <td>0.0</td>\n",
       "      <td>...</td>\n",
       "      <td>0</td>\n",
       "      <td>0</td>\n",
       "      <td>1</td>\n",
       "      <td>0</td>\n",
       "      <td>0</td>\n",
       "      <td>1</td>\n",
       "      <td>1</td>\n",
       "      <td>0</td>\n",
       "      <td>0</td>\n",
       "      <td>0</td>\n",
       "    </tr>\n",
       "    <tr>\n",
       "      <th>21536</th>\n",
       "      <td>49</td>\n",
       "      <td>no</td>\n",
       "      <td>0.0</td>\n",
       "      <td>no</td>\n",
       "      <td>no</td>\n",
       "      <td>19.0</td>\n",
       "      <td>141.0</td>\n",
       "      <td>2.0</td>\n",
       "      <td>-1.0</td>\n",
       "      <td>0.0</td>\n",
       "      <td>...</td>\n",
       "      <td>0</td>\n",
       "      <td>0</td>\n",
       "      <td>1</td>\n",
       "      <td>0</td>\n",
       "      <td>0</td>\n",
       "      <td>1</td>\n",
       "      <td>1</td>\n",
       "      <td>0</td>\n",
       "      <td>0</td>\n",
       "      <td>0</td>\n",
       "    </tr>\n",
       "    <tr>\n",
       "      <th>21537</th>\n",
       "      <td>49</td>\n",
       "      <td>no</td>\n",
       "      <td>-962.0</td>\n",
       "      <td>yes</td>\n",
       "      <td>no</td>\n",
       "      <td>19.0</td>\n",
       "      <td>295.0</td>\n",
       "      <td>2.0</td>\n",
       "      <td>-1.0</td>\n",
       "      <td>0.0</td>\n",
       "      <td>...</td>\n",
       "      <td>1</td>\n",
       "      <td>0</td>\n",
       "      <td>1</td>\n",
       "      <td>0</td>\n",
       "      <td>0</td>\n",
       "      <td>1</td>\n",
       "      <td>1</td>\n",
       "      <td>0</td>\n",
       "      <td>0</td>\n",
       "      <td>0</td>\n",
       "    </tr>\n",
       "  </tbody>\n",
       "</table>\n",
       "<p>21538 rows × 38 columns</p>\n",
       "</div>"
      ],
      "text/plain": [
       "       age default  balance housing loan   day  duration  campaign  pdays  \\\n",
       "0       58      no   2143.0     yes   no   5.0     261.0       1.0   -1.0   \n",
       "1       44      no     29.0     yes   no   5.0     151.0       1.0   -1.0   \n",
       "2       33      no      2.0     yes  yes   5.0      76.0       1.0   -1.0   \n",
       "3       47      no   1506.0     yes   no   5.0      92.0       1.0   -1.0   \n",
       "4       33      no      1.0      no   no   5.0     198.0       1.0   -1.0   \n",
       "...    ...     ...      ...     ...  ...   ...       ...       ...    ...   \n",
       "21533   38      no    103.0      no   no  19.0     490.0       4.0   -1.0   \n",
       "21534   59      no    613.0      no   no  19.0      75.0       2.0   -1.0   \n",
       "21535   48      no    -95.0      no   no  19.0     134.0       9.0   -1.0   \n",
       "21536   49      no      0.0      no   no  19.0     141.0       2.0   -1.0   \n",
       "21537   49      no   -962.0     yes   no  19.0     295.0       2.0   -1.0   \n",
       "\n",
       "       previous  ... education_tertiary  education_unknown  contact_cellular  \\\n",
       "0           0.0  ...                  1                  0                 0   \n",
       "1           0.0  ...                  0                  0                 0   \n",
       "2           0.0  ...                  0                  0                 0   \n",
       "3           0.0  ...                  0                  1                 0   \n",
       "4           0.0  ...                  0                  1                 0   \n",
       "...         ...  ...                ...                ...               ...   \n",
       "21533       0.0  ...                  1                  0                 1   \n",
       "21534       0.0  ...                  0                  1                 1   \n",
       "21535       0.0  ...                  0                  0                 1   \n",
       "21536       0.0  ...                  0                  0                 1   \n",
       "21537       0.0  ...                  1                  0                 1   \n",
       "\n",
       "       contact_telephone  contact_unknown  poutcome_unknown  month_aug  \\\n",
       "0                      0                1                 1          0   \n",
       "1                      0                1                 1          0   \n",
       "2                      0                1                 1          0   \n",
       "3                      0                1                 1          0   \n",
       "4                      0                1                 1          0   \n",
       "...                  ...              ...               ...        ...   \n",
       "21533                  0                0                 1          1   \n",
       "21534                  0                0                 1          1   \n",
       "21535                  0                0                 1          1   \n",
       "21536                  0                0                 1          1   \n",
       "21537                  0                0                 1          1   \n",
       "\n",
       "       month_jul  month_jun  month_may  \n",
       "0              0          0          1  \n",
       "1              0          0          1  \n",
       "2              0          0          1  \n",
       "3              0          0          1  \n",
       "4              0          0          1  \n",
       "...          ...        ...        ...  \n",
       "21533          0          0          0  \n",
       "21534          0          0          0  \n",
       "21535          0          0          0  \n",
       "21536          0          0          0  \n",
       "21537          0          0          0  \n",
       "\n",
       "[21538 rows x 38 columns]"
      ]
     },
     "execution_count": 6,
     "metadata": {},
     "output_type": "execute_result"
    }
   ],
   "source": [
    "bank1=pd.get_dummies(bank,columns=['job','marital','education',\n",
    "                                   'contact','poutcome','month'])\n",
    "bank1"
   ]
  },
  {
   "cell_type": "code",
   "execution_count": 8,
   "id": "fd00b131",
   "metadata": {
    "ExecuteTime": {
     "end_time": "2023-05-16T09:20:32.317922Z",
     "start_time": "2023-05-16T09:20:32.272681Z"
    }
   },
   "outputs": [
    {
     "name": "stdout",
     "output_type": "stream",
     "text": [
      "<class 'pandas.core.frame.DataFrame'>\n",
      "Int64Index: 21538 entries, 0 to 21537\n",
      "Data columns (total 38 columns):\n",
      " #   Column               Non-Null Count  Dtype  \n",
      "---  ------               --------------  -----  \n",
      " 0   age                  21538 non-null  int64  \n",
      " 1   default              21538 non-null  object \n",
      " 2   balance              21538 non-null  float64\n",
      " 3   housing              21538 non-null  object \n",
      " 4   loan                 21538 non-null  object \n",
      " 5   day                  21538 non-null  float64\n",
      " 6   duration             21538 non-null  float64\n",
      " 7   campaign             21538 non-null  float64\n",
      " 8   pdays                21538 non-null  float64\n",
      " 9   previous             21538 non-null  float64\n",
      " 10  y                    21538 non-null  object \n",
      " 11  job_admin.           21538 non-null  uint8  \n",
      " 12  job_blue-collar      21538 non-null  uint8  \n",
      " 13  job_entrepreneur     21538 non-null  uint8  \n",
      " 14  job_housemaid        21538 non-null  uint8  \n",
      " 15  job_management       21538 non-null  uint8  \n",
      " 16  job_retired          21538 non-null  uint8  \n",
      " 17  job_self-employed    21538 non-null  uint8  \n",
      " 18  job_services         21538 non-null  uint8  \n",
      " 19  job_student          21538 non-null  uint8  \n",
      " 20  job_technician       21538 non-null  uint8  \n",
      " 21  job_unemployed       21538 non-null  uint8  \n",
      " 22  job_unknown          21538 non-null  uint8  \n",
      " 23  marital_divorced     21538 non-null  uint8  \n",
      " 24  marital_married      21538 non-null  uint8  \n",
      " 25  marital_single       21538 non-null  uint8  \n",
      " 26  education_primary    21538 non-null  uint8  \n",
      " 27  education_secondary  21538 non-null  uint8  \n",
      " 28  education_tertiary   21538 non-null  uint8  \n",
      " 29  education_unknown    21538 non-null  uint8  \n",
      " 30  contact_cellular     21538 non-null  uint8  \n",
      " 31  contact_telephone    21538 non-null  uint8  \n",
      " 32  contact_unknown      21538 non-null  uint8  \n",
      " 33  poutcome_unknown     21538 non-null  uint8  \n",
      " 34  month_aug            21538 non-null  uint8  \n",
      " 35  month_jul            21538 non-null  uint8  \n",
      " 36  month_jun            21538 non-null  uint8  \n",
      " 37  month_may            21538 non-null  uint8  \n",
      "dtypes: float64(6), int64(1), object(4), uint8(27)\n",
      "memory usage: 2.5+ MB\n"
     ]
    }
   ],
   "source": [
    "pd.set_option(\"display.max.columns\",None)\n",
    "bank1\n",
    "bank1.info()"
   ]
  },
  {
   "cell_type": "code",
   "execution_count": 9,
   "id": "07d4cc94",
   "metadata": {
    "ExecuteTime": {
     "end_time": "2023-05-16T09:21:13.718705Z",
     "start_time": "2023-05-16T09:21:13.626809Z"
    }
   },
   "outputs": [
    {
     "name": "stdout",
     "output_type": "stream",
     "text": [
      "<class 'pandas.core.frame.DataFrame'>\n",
      "Int64Index: 21538 entries, 0 to 21537\n",
      "Data columns (total 38 columns):\n",
      " #   Column               Non-Null Count  Dtype  \n",
      "---  ------               --------------  -----  \n",
      " 0   age                  21538 non-null  int64  \n",
      " 1   default              21538 non-null  int32  \n",
      " 2   balance              21538 non-null  float64\n",
      " 3   housing              21538 non-null  int32  \n",
      " 4   loan                 21538 non-null  int32  \n",
      " 5   day                  21538 non-null  float64\n",
      " 6   duration             21538 non-null  float64\n",
      " 7   campaign             21538 non-null  float64\n",
      " 8   pdays                21538 non-null  float64\n",
      " 9   previous             21538 non-null  float64\n",
      " 10  y                    21538 non-null  int32  \n",
      " 11  job_admin.           21538 non-null  uint8  \n",
      " 12  job_blue-collar      21538 non-null  uint8  \n",
      " 13  job_entrepreneur     21538 non-null  uint8  \n",
      " 14  job_housemaid        21538 non-null  uint8  \n",
      " 15  job_management       21538 non-null  uint8  \n",
      " 16  job_retired          21538 non-null  uint8  \n",
      " 17  job_self-employed    21538 non-null  uint8  \n",
      " 18  job_services         21538 non-null  uint8  \n",
      " 19  job_student          21538 non-null  uint8  \n",
      " 20  job_technician       21538 non-null  uint8  \n",
      " 21  job_unemployed       21538 non-null  uint8  \n",
      " 22  job_unknown          21538 non-null  uint8  \n",
      " 23  marital_divorced     21538 non-null  uint8  \n",
      " 24  marital_married      21538 non-null  uint8  \n",
      " 25  marital_single       21538 non-null  uint8  \n",
      " 26  education_primary    21538 non-null  uint8  \n",
      " 27  education_secondary  21538 non-null  uint8  \n",
      " 28  education_tertiary   21538 non-null  uint8  \n",
      " 29  education_unknown    21538 non-null  uint8  \n",
      " 30  contact_cellular     21538 non-null  uint8  \n",
      " 31  contact_telephone    21538 non-null  uint8  \n",
      " 32  contact_unknown      21538 non-null  uint8  \n",
      " 33  poutcome_unknown     21538 non-null  uint8  \n",
      " 34  month_aug            21538 non-null  uint8  \n",
      " 35  month_jul            21538 non-null  uint8  \n",
      " 36  month_jun            21538 non-null  uint8  \n",
      " 37  month_may            21538 non-null  uint8  \n",
      "dtypes: float64(6), int32(4), int64(1), uint8(27)\n",
      "memory usage: 2.2 MB\n"
     ]
    }
   ],
   "source": [
    "bank1['default']=np.where(bank1['default'].str.contains(\"yes\"),1,0)\n",
    "bank1['housing']=np.where(bank1['housing'].str.contains(\"yes\"),1,0)\n",
    "bank1['loan']=np.where(bank1['loan'].str.contains(\"yes\"),1,0)\n",
    "bank1['y']=np.where(bank1['y'].str.contains(\"yes\"),1,0)\n",
    "bank1\n",
    "bank1.info()"
   ]
  },
  {
   "cell_type": "code",
   "execution_count": 10,
   "id": "926d3fc3",
   "metadata": {
    "ExecuteTime": {
     "end_time": "2023-05-16T09:21:53.784421Z",
     "start_time": "2023-05-16T09:21:53.762514Z"
    }
   },
   "outputs": [],
   "source": [
    "x=pd.concat([bank1.iloc[:,0:10],bank1.iloc[:,11:]],axis=1)\n",
    "y=bank1.iloc[:,10]"
   ]
  },
  {
   "cell_type": "code",
   "execution_count": 11,
   "id": "ace9224c",
   "metadata": {
    "ExecuteTime": {
     "end_time": "2023-05-16T09:22:14.780812Z",
     "start_time": "2023-05-16T09:22:14.233078Z"
    }
   },
   "outputs": [
    {
     "name": "stderr",
     "output_type": "stream",
     "text": [
      "C:\\Users\\HP\\.anaconda\\lib\\site-packages\\sklearn\\linear_model\\_logistic.py:458: ConvergenceWarning: lbfgs failed to converge (status=1):\n",
      "STOP: TOTAL NO. of ITERATIONS REACHED LIMIT.\n",
      "\n",
      "Increase the number of iterations (max_iter) or scale the data as shown in:\n",
      "    https://scikit-learn.org/stable/modules/preprocessing.html\n",
      "Please also refer to the documentation for alternative solver options:\n",
      "    https://scikit-learn.org/stable/modules/linear_model.html#logistic-regression\n",
      "  n_iter_i = _check_optimize_result(\n"
     ]
    },
    {
     "data": {
      "text/html": [
       "<style>#sk-container-id-1 {color: black;background-color: white;}#sk-container-id-1 pre{padding: 0;}#sk-container-id-1 div.sk-toggleable {background-color: white;}#sk-container-id-1 label.sk-toggleable__label {cursor: pointer;display: block;width: 100%;margin-bottom: 0;padding: 0.3em;box-sizing: border-box;text-align: center;}#sk-container-id-1 label.sk-toggleable__label-arrow:before {content: \"▸\";float: left;margin-right: 0.25em;color: #696969;}#sk-container-id-1 label.sk-toggleable__label-arrow:hover:before {color: black;}#sk-container-id-1 div.sk-estimator:hover label.sk-toggleable__label-arrow:before {color: black;}#sk-container-id-1 div.sk-toggleable__content {max-height: 0;max-width: 0;overflow: hidden;text-align: left;background-color: #f0f8ff;}#sk-container-id-1 div.sk-toggleable__content pre {margin: 0.2em;color: black;border-radius: 0.25em;background-color: #f0f8ff;}#sk-container-id-1 input.sk-toggleable__control:checked~div.sk-toggleable__content {max-height: 200px;max-width: 100%;overflow: auto;}#sk-container-id-1 input.sk-toggleable__control:checked~label.sk-toggleable__label-arrow:before {content: \"▾\";}#sk-container-id-1 div.sk-estimator input.sk-toggleable__control:checked~label.sk-toggleable__label {background-color: #d4ebff;}#sk-container-id-1 div.sk-label input.sk-toggleable__control:checked~label.sk-toggleable__label {background-color: #d4ebff;}#sk-container-id-1 input.sk-hidden--visually {border: 0;clip: rect(1px 1px 1px 1px);clip: rect(1px, 1px, 1px, 1px);height: 1px;margin: -1px;overflow: hidden;padding: 0;position: absolute;width: 1px;}#sk-container-id-1 div.sk-estimator {font-family: monospace;background-color: #f0f8ff;border: 1px dotted black;border-radius: 0.25em;box-sizing: border-box;margin-bottom: 0.5em;}#sk-container-id-1 div.sk-estimator:hover {background-color: #d4ebff;}#sk-container-id-1 div.sk-parallel-item::after {content: \"\";width: 100%;border-bottom: 1px solid gray;flex-grow: 1;}#sk-container-id-1 div.sk-label:hover label.sk-toggleable__label {background-color: #d4ebff;}#sk-container-id-1 div.sk-serial::before {content: \"\";position: absolute;border-left: 1px solid gray;box-sizing: border-box;top: 0;bottom: 0;left: 50%;z-index: 0;}#sk-container-id-1 div.sk-serial {display: flex;flex-direction: column;align-items: center;background-color: white;padding-right: 0.2em;padding-left: 0.2em;position: relative;}#sk-container-id-1 div.sk-item {position: relative;z-index: 1;}#sk-container-id-1 div.sk-parallel {display: flex;align-items: stretch;justify-content: center;background-color: white;position: relative;}#sk-container-id-1 div.sk-item::before, #sk-container-id-1 div.sk-parallel-item::before {content: \"\";position: absolute;border-left: 1px solid gray;box-sizing: border-box;top: 0;bottom: 0;left: 50%;z-index: -1;}#sk-container-id-1 div.sk-parallel-item {display: flex;flex-direction: column;z-index: 1;position: relative;background-color: white;}#sk-container-id-1 div.sk-parallel-item:first-child::after {align-self: flex-end;width: 50%;}#sk-container-id-1 div.sk-parallel-item:last-child::after {align-self: flex-start;width: 50%;}#sk-container-id-1 div.sk-parallel-item:only-child::after {width: 0;}#sk-container-id-1 div.sk-dashed-wrapped {border: 1px dashed gray;margin: 0 0.4em 0.5em 0.4em;box-sizing: border-box;padding-bottom: 0.4em;background-color: white;}#sk-container-id-1 div.sk-label label {font-family: monospace;font-weight: bold;display: inline-block;line-height: 1.2em;}#sk-container-id-1 div.sk-label-container {text-align: center;}#sk-container-id-1 div.sk-container {/* jupyter's `normalize.less` sets `[hidden] { display: none; }` but bootstrap.min.css set `[hidden] { display: none !important; }` so we also need the `!important` here to be able to override the default hidden behavior on the sphinx rendered scikit-learn.org. See: https://github.com/scikit-learn/scikit-learn/issues/21755 */display: inline-block !important;position: relative;}#sk-container-id-1 div.sk-text-repr-fallback {display: none;}</style><div id=\"sk-container-id-1\" class=\"sk-top-container\"><div class=\"sk-text-repr-fallback\"><pre>LogisticRegression()</pre><b>In a Jupyter environment, please rerun this cell to show the HTML representation or trust the notebook. <br />On GitHub, the HTML representation is unable to render, please try loading this page with nbviewer.org.</b></div><div class=\"sk-container\" hidden><div class=\"sk-item\"><div class=\"sk-estimator sk-toggleable\"><input class=\"sk-toggleable__control sk-hidden--visually\" id=\"sk-estimator-id-1\" type=\"checkbox\" checked><label for=\"sk-estimator-id-1\" class=\"sk-toggleable__label sk-toggleable__label-arrow\">LogisticRegression</label><div class=\"sk-toggleable__content\"><pre>LogisticRegression()</pre></div></div></div></div></div>"
      ],
      "text/plain": [
       "LogisticRegression()"
      ]
     },
     "execution_count": 11,
     "metadata": {},
     "output_type": "execute_result"
    }
   ],
   "source": [
    "classifier=LogisticRegression()\n",
    "classifier.fit(x,y)"
   ]
  },
  {
   "cell_type": "code",
   "execution_count": 12,
   "id": "4b9e36a6",
   "metadata": {
    "ExecuteTime": {
     "end_time": "2023-05-16T09:23:48.513698Z",
     "start_time": "2023-05-16T09:23:48.476333Z"
    }
   },
   "outputs": [
    {
     "data": {
      "text/plain": [
       "array([0, 0, 0, ..., 0, 0, 0])"
      ]
     },
     "execution_count": 12,
     "metadata": {},
     "output_type": "execute_result"
    }
   ],
   "source": [
    "y_pred=classifier.predict(x)\n",
    "y_pred"
   ]
  },
  {
   "cell_type": "code",
   "execution_count": 13,
   "id": "435c1a60",
   "metadata": {
    "ExecuteTime": {
     "end_time": "2023-05-16T09:26:09.335884Z",
     "start_time": "2023-05-16T09:26:09.316693Z"
    }
   },
   "outputs": [
    {
     "data": {
      "text/html": [
       "<div>\n",
       "<style scoped>\n",
       "    .dataframe tbody tr th:only-of-type {\n",
       "        vertical-align: middle;\n",
       "    }\n",
       "\n",
       "    .dataframe tbody tr th {\n",
       "        vertical-align: top;\n",
       "    }\n",
       "\n",
       "    .dataframe thead th {\n",
       "        text-align: right;\n",
       "    }\n",
       "</style>\n",
       "<table border=\"1\" class=\"dataframe\">\n",
       "  <thead>\n",
       "    <tr style=\"text-align: right;\">\n",
       "      <th></th>\n",
       "      <th>actual_y</th>\n",
       "      <th>y_pred_prob</th>\n",
       "    </tr>\n",
       "  </thead>\n",
       "  <tbody>\n",
       "    <tr>\n",
       "      <th>0</th>\n",
       "      <td>0</td>\n",
       "      <td>0</td>\n",
       "    </tr>\n",
       "    <tr>\n",
       "      <th>1</th>\n",
       "      <td>0</td>\n",
       "      <td>0</td>\n",
       "    </tr>\n",
       "    <tr>\n",
       "      <th>2</th>\n",
       "      <td>0</td>\n",
       "      <td>0</td>\n",
       "    </tr>\n",
       "    <tr>\n",
       "      <th>3</th>\n",
       "      <td>0</td>\n",
       "      <td>0</td>\n",
       "    </tr>\n",
       "    <tr>\n",
       "      <th>4</th>\n",
       "      <td>0</td>\n",
       "      <td>0</td>\n",
       "    </tr>\n",
       "    <tr>\n",
       "      <th>...</th>\n",
       "      <td>...</td>\n",
       "      <td>...</td>\n",
       "    </tr>\n",
       "    <tr>\n",
       "      <th>21533</th>\n",
       "      <td>0</td>\n",
       "      <td>0</td>\n",
       "    </tr>\n",
       "    <tr>\n",
       "      <th>21534</th>\n",
       "      <td>0</td>\n",
       "      <td>0</td>\n",
       "    </tr>\n",
       "    <tr>\n",
       "      <th>21535</th>\n",
       "      <td>0</td>\n",
       "      <td>0</td>\n",
       "    </tr>\n",
       "    <tr>\n",
       "      <th>21536</th>\n",
       "      <td>0</td>\n",
       "      <td>0</td>\n",
       "    </tr>\n",
       "    <tr>\n",
       "      <th>21537</th>\n",
       "      <td>0</td>\n",
       "      <td>0</td>\n",
       "    </tr>\n",
       "  </tbody>\n",
       "</table>\n",
       "<p>21538 rows × 2 columns</p>\n",
       "</div>"
      ],
      "text/plain": [
       "       actual_y  y_pred_prob\n",
       "0             0            0\n",
       "1             0            0\n",
       "2             0            0\n",
       "3             0            0\n",
       "4             0            0\n",
       "...         ...          ...\n",
       "21533         0            0\n",
       "21534         0            0\n",
       "21535         0            0\n",
       "21536         0            0\n",
       "21537         0            0\n",
       "\n",
       "[21538 rows x 2 columns]"
      ]
     },
     "execution_count": 13,
     "metadata": {},
     "output_type": "execute_result"
    }
   ],
   "source": [
    "y_pred_df=pd.DataFrame({'actual_y':y,'y_pred_prob':y_pred})\n",
    "y_pred_df"
   ]
  },
  {
   "cell_type": "code",
   "execution_count": 14,
   "id": "44ce1fde",
   "metadata": {
    "ExecuteTime": {
     "end_time": "2023-05-16T09:26:40.164041Z",
     "start_time": "2023-05-16T09:26:40.135266Z"
    }
   },
   "outputs": [
    {
     "data": {
      "text/plain": [
       "array([[20277,   217],\n",
       "       [  703,   341]], dtype=int64)"
      ]
     },
     "execution_count": 14,
     "metadata": {},
     "output_type": "execute_result"
    }
   ],
   "source": [
    "confusion_matrix=confusion_matrix(y,y_pred)\n",
    "confusion_matrix"
   ]
  },
  {
   "cell_type": "code",
   "execution_count": 15,
   "id": "a14a7989",
   "metadata": {
    "ExecuteTime": {
     "end_time": "2023-05-16T09:27:11.126035Z",
     "start_time": "2023-05-16T09:27:11.105800Z"
    }
   },
   "outputs": [
    {
     "data": {
      "text/plain": [
       "0.1120644370513045"
      ]
     },
     "execution_count": 15,
     "metadata": {},
     "output_type": "execute_result"
    }
   ],
   "source": [
    "#model accuracy by (a+d)/(a+d+b+c)\n",
    "(3900+2500)/(3900+5500+45210+2500)"
   ]
  },
  {
   "cell_type": "code",
   "execution_count": 16,
   "id": "eee83028",
   "metadata": {
    "ExecuteTime": {
     "end_time": "2023-05-16T09:29:00.185533Z",
     "start_time": "2023-05-16T09:29:00.160580Z"
    }
   },
   "outputs": [
    {
     "data": {
      "text/plain": [
       "array([0.0029525 , 0.00384221, 0.00468968, ..., 0.00738688, 0.01152789,\n",
       "       0.01925144])"
      ]
     },
     "execution_count": 16,
     "metadata": {},
     "output_type": "execute_result"
    }
   ],
   "source": [
    "classifier.predict_proba(x)[:,1]"
   ]
  },
  {
   "cell_type": "code",
   "execution_count": 17,
   "id": "271022c7",
   "metadata": {
    "ExecuteTime": {
     "end_time": "2023-05-16T09:29:27.242168Z",
     "start_time": "2023-05-16T09:29:27.226172Z"
    }
   },
   "outputs": [
    {
     "data": {
      "text/plain": [
       "array([[-6.26255050e-02,  1.98244620e-02, -9.61110720e-06,\n",
       "        -4.71774579e-01, -1.93161831e-01,  1.46280727e-04,\n",
       "         5.46845695e-03, -8.62791713e-02,  4.76528196e-01,\n",
       "         0.00000000e+00, -6.02914518e-02, -1.50478208e-01,\n",
       "         1.38535143e-02, -2.96120531e-02, -1.35277510e-01,\n",
       "         9.12713047e-02, -3.31752873e-02, -1.18232746e-01,\n",
       "        -1.76979288e-02, -5.29957703e-02,  2.19349882e-02,\n",
       "        -5.82704789e-03,  2.12175139e-01, -3.20613698e-01,\n",
       "        -3.68089637e-01,  1.99853615e-04, -2.57422298e-01,\n",
       "        -1.91360677e-01, -2.79450744e-02,  3.35092351e-02,\n",
       "         1.58758388e-02, -5.25913270e-01, -4.76528196e-01,\n",
       "         1.26071408e-01, -1.11994589e-01, -5.48360078e-02,\n",
       "        -4.35769007e-01]])"
      ]
     },
     "execution_count": 17,
     "metadata": {},
     "output_type": "execute_result"
    }
   ],
   "source": [
    "classifier.coef_"
   ]
  },
  {
   "cell_type": "code",
   "execution_count": 18,
   "id": "939a696d",
   "metadata": {
    "ExecuteTime": {
     "end_time": "2023-05-16T09:29:51.051591Z",
     "start_time": "2023-05-16T09:29:50.990992Z"
    }
   },
   "outputs": [
    {
     "data": {
      "text/html": [
       "<div>\n",
       "<style scoped>\n",
       "    .dataframe tbody tr th:only-of-type {\n",
       "        vertical-align: middle;\n",
       "    }\n",
       "\n",
       "    .dataframe tbody tr th {\n",
       "        vertical-align: top;\n",
       "    }\n",
       "\n",
       "    .dataframe thead th {\n",
       "        text-align: right;\n",
       "    }\n",
       "</style>\n",
       "<table border=\"1\" class=\"dataframe\">\n",
       "  <thead>\n",
       "    <tr style=\"text-align: right;\">\n",
       "      <th>y</th>\n",
       "      <th>0</th>\n",
       "      <th>1</th>\n",
       "    </tr>\n",
       "    <tr>\n",
       "      <th>row_0</th>\n",
       "      <th></th>\n",
       "      <th></th>\n",
       "    </tr>\n",
       "  </thead>\n",
       "  <tbody>\n",
       "    <tr>\n",
       "      <th>0</th>\n",
       "      <td>20277</td>\n",
       "      <td>703</td>\n",
       "    </tr>\n",
       "    <tr>\n",
       "      <th>1</th>\n",
       "      <td>217</td>\n",
       "      <td>341</td>\n",
       "    </tr>\n",
       "  </tbody>\n",
       "</table>\n",
       "</div>"
      ],
      "text/plain": [
       "y          0    1\n",
       "row_0            \n",
       "0      20277  703\n",
       "1        217  341"
      ]
     },
     "execution_count": 18,
     "metadata": {},
     "output_type": "execute_result"
    }
   ],
   "source": [
    "pd.crosstab(y_pred,y)"
   ]
  },
  {
   "cell_type": "code",
   "execution_count": 19,
   "id": "4c5d7216",
   "metadata": {
    "ExecuteTime": {
     "end_time": "2023-05-16T09:29:57.311224Z",
     "start_time": "2023-05-16T09:29:57.291032Z"
    }
   },
   "outputs": [
    {
     "data": {
      "text/plain": [
       "20618"
      ]
     },
     "execution_count": 19,
     "metadata": {},
     "output_type": "execute_result"
    }
   ],
   "source": [
    "accuracy=sum(y==y_pred)\n",
    "accuracy"
   ]
  },
  {
   "cell_type": "code",
   "execution_count": 20,
   "id": "32746c87",
   "metadata": {
    "ExecuteTime": {
     "end_time": "2023-05-16T09:31:13.290706Z",
     "start_time": "2023-05-16T09:31:13.272558Z"
    }
   },
   "outputs": [],
   "source": [
    "from sklearn.metrics import roc_auc_score\n",
    "from sklearn.metrics import roc_curve"
   ]
  },
  {
   "cell_type": "code",
   "execution_count": 21,
   "id": "3b60ad14",
   "metadata": {
    "ExecuteTime": {
     "end_time": "2023-05-16T09:31:35.647875Z",
     "start_time": "2023-05-16T09:31:35.608994Z"
    }
   },
   "outputs": [
    {
     "data": {
      "text/plain": [
       "0.6580199437869303"
      ]
     },
     "execution_count": 21,
     "metadata": {},
     "output_type": "execute_result"
    }
   ],
   "source": [
    "Logit_roc_score=roc_auc_score(y,classifier.predict(x))\n",
    "Logit_roc_score"
   ]
  },
  {
   "cell_type": "code",
   "execution_count": 22,
   "id": "f11e8b87",
   "metadata": {
    "ExecuteTime": {
     "end_time": "2023-05-16T09:32:02.467801Z",
     "start_time": "2023-05-16T09:32:02.109657Z"
    }
   },
   "outputs": [
    {
     "data": {
      "image/png": "[encoded data removed]",
      "text/plain": [
       "<Figure size 640x480 with 1 Axes>"
      ]
     },
     "metadata": {},
     "output_type": "display_data"
    }
   ],
   "source": [
    "fpr,tpr,thresholds=roc_curve(y,classifier.predict_proba(x)[:,1])\n",
    "plt.plot(fpr,tpr,color='blue')\n",
    "acu=roc_auc_score(y,y_pred)\n",
    "\n",
    "plt.plot(fpr,tpr,color='blue',label='logit model(area=%0.2f)'%Logit_roc_score)\n",
    "plt.plot([0,1],[0,1],'k--')\n",
    "plt.xlabel(\"fpr\")\n",
    "plt.ylabel(\"tpr\")\n",
    "plt.show()"
   ]
  },
  {
   "cell_type": "code",
   "execution_count": null,
   "id": "99adad9b",
   "metadata": {},
   "outputs": [],
   "source": []
  },
  {
   "cell_type": "code",
   "execution_count": null,
   "id": "9ec4bb3b",
   "metadata": {},
   "outputs": [],
   "source": []
  }
 ],
 "metadata": {
  "kernelspec": {
   "display_name": "Python 3 (ipykernel)",
   "language": "python",
   "name": "python3"
  },
  "language_info": {
   "codemirror_mode": {
    "name": "ipython",
    "version": 3
   },
   "file_extension": ".py",
   "mimetype": "text/x-python",
   "name": "python",
   "nbconvert_exporter": "python",
   "pygments_lexer": "ipython3",
   "version": "3.10.9"
  }
 },
 "nbformat": 4,
 "nbformat_minor": 5
}
